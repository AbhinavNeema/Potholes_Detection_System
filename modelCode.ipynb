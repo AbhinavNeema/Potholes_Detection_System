{
  "nbformat": 4,
  "nbformat_minor": 0,
  "metadata": {
    "colab": {
      "provenance": []
    },
    "kernelspec": {
      "name": "python3",
      "display_name": "Python 3"
    },
    "language_info": {
      "name": "python"
    }
  },
  "cells": [
    {
      "cell_type": "code",
      "execution_count": null,
      "metadata": {
        "id": "LPOT8moQGuXN"
      },
      "outputs": [],
      "source": [
        "# --- CELL 1: SETUP ---\n",
        "from google.colab import drive\n",
        "import os\n",
        "import torch\n",
        "from ultralytics import YOLO\n",
        "from roboflow import Roboflow\n",
        "from IPython.display import Image, display\n",
        "from PIL import Image as PILImage\n",
        "import matplotlib.pyplot as plt\n",
        "import glob"
      ]
    },
    {
      "cell_type": "code",
      "source": [
        "# Mount Google Drive to save our results persistently\n",
        "drive.mount('/content/drive')\n",
        "\n",
        "# Define the main project folder in your Google Drive\n",
        "project_folder = '/content/drive/MyDrive/YOLO_Pothole_Results'\n",
        "os.makedirs(project_folder, exist_ok=True)"
      ],
      "metadata": {
        "id": "goVovdi8GxNU"
      },
      "execution_count": null,
      "outputs": []
    },
    {
      "cell_type": "code",
      "source": [
        "!pip install ultralytics roboflow -q\n"
      ],
      "metadata": {
        "id": "3e_3hxheGzug"
      },
      "execution_count": null,
      "outputs": []
    },
    {
      "cell_type": "code",
      "source": [
        "# --- DOWNLOAD DATASET ---\n",
        "# IMPORTANT: Replace with your own Roboflow API Key\n",
        "rf = Roboflow(api_key=\"YOUR_ROBOFLOW_API_KEY\")\n",
        "\n",
        "# Download the specified dataset version from your Roboflow project\n",
        "project = rf.workspace(\"aegis\").project(\"pothole-detection-i00zy\")\n",
        "dataset = project.version(10).download(\"yolov8\")\n",
        "\n",
        "# Store the dataset path for later use\n",
        "dataset_path = dataset.location"
      ],
      "metadata": {
        "id": "pyQR6nbGG5Ye"
      },
      "execution_count": null,
      "outputs": []
    },
    {
      "cell_type": "code",
      "source": [
        "# --- VISUALIZE DATASET ---\n",
        "# Get a list of 4 random training images\n",
        "image_files = glob.glob(os.path.join(dataset_path, 'train/images', '*.jpg'))[:4]\n",
        "\n",
        "# Plot the images\n",
        "plt.figure(figsize=(14, 8))\n",
        "for i, img_path in enumerate(image_files):\n",
        "    plt.subplot(2, 2, i + 1)\n",
        "    img = PILImage.open(img_path)\n",
        "    plt.imshow(img)\n",
        "    plt.title(f'Sample Image {i+1}')\n",
        "    plt.axis('off')\n",
        "plt.tight_layout()\n",
        "plt.show()"
      ],
      "metadata": {
        "id": "mKzCoJt8G8Hv"
      },
      "execution_count": null,
      "outputs": []
    },
    {
      "cell_type": "code",
      "source": [
        "# --- TRAIN THE MODEL ---\n",
        "# Define the model checkpoint to load. Use a pre-trained model for the first run.\n",
        "# After the first run, you can change this to the 'last.pt' file in your results folder to resume.\n",
        "model_checkpoint_path = '/content/drive/MyDrive/YOLO_Pothole_Results/pothole_detector_yolov8m_final/weights/last.pt'\n",
        "\n",
        "if os.path.exists(model_checkpoint_path):\n",
        "    print(\"Resuming training from last checkpoint...\")\n",
        "    model = YOLO(model_checkpoint_path)\n",
        "else:\n",
        "    print(\"Starting new training from pretrained yolov8m.pt...\")\n",
        "    model = YOLO('yolov8m.pt')\n",
        "\n",
        "# Start or resume training\n",
        "results = model.train(\n",
        "    data=os.path.join(dataset_path, 'data.yaml'),\n",
        "    epochs=200,\n",
        "    imgsz=640,\n",
        "    project=project_folder,       # Saves results to your Google Drive\n",
        "    name='pothole_detector_yolov8m_final',\n",
        "    exist_ok=True,              # Allows resuming in the same folder\n",
        "    lr0=0.01,\n",
        "    lrf=0.01,\n",
        "    momentum=0.937,\n",
        "    weight_decay=0.0005,\n",
        "    warmup_epochs=3.0,\n",
        "    warmup_momentum=0.8,\n",
        "    box=7.5,\n",
        "    cls=0.5,\n",
        "    dfl=1.5,\n",
        "    hsv_h=0.015,\n",
        "    hsv_s=0.7,\n",
        "    hsv_v=0.4,\n",
        "    degrees=0.0,\n",
        "    translate=0.1,\n",
        "    scale=0.5,\n",
        "    shear=0.0,\n",
        "    perspective=0.0,\n",
        "    flipud=0.0,\n",
        "    fliplr=0.5,\n",
        "    bgr=0.0,\n",
        "    mosaic=1.0,\n",
        "    mixup=0.0,\n",
        "    cutmix=0.0,\n",
        "    copy_paste=0.0,\n",
        "    device=0                    # Use GPU (0)\n",
        ")"
      ],
      "metadata": {
        "id": "NUPJfe9BHA6i"
      },
      "execution_count": null,
      "outputs": []
    },
    {
      "cell_type": "code",
      "source": [
        "# --- EVALUATE PERFORMANCE ---\n",
        "# Define the path to the training results folder\n",
        "results_path = os.path.join(project_folder, 'pothole_detector_yolov8m_final')\n",
        "\n",
        "# Display the confusion matrix\n",
        "print(\"Confusion Matrix:\")\n",
        "display(Image(filename=os.path.join(results_path, 'confusion_matrix.png'), width=800))\n",
        "\n",
        "# Display the training and validation loss curves\n",
        "print(\"\\nTraining/Validation Results:\")\n",
        "display(Image(filename=os.path.join(results_path, 'results.png'), width=1000))\n",
        "\n",
        "# Display the Precision-Recall curve\n",
        "print(\"\\nPrecision-Recall Curve:\")\n",
        "display(Image(filename=os.path.join(results_path, 'PR_curve.png'), width=800))"
      ],
      "metadata": {
        "id": "_3mPZS18HDjN"
      },
      "execution_count": null,
      "outputs": []
    },
    {
      "cell_type": "code",
      "source": [
        "# --- VALIDATE BEST MODEL ---\n",
        "# Load the best performing model from the training run\n",
        "best_model_path = os.path.join(results_path, 'weights/best.pt')\n",
        "model = YOLO(best_model_path)\n",
        "\n",
        "# Run validation\n",
        "metrics = model.val()\n",
        "print(\"\\n--- Final Model Metrics ---\")\n",
        "print(f\"mAP50-95: {metrics.box.map:.4f}\")\n",
        "print(f\"mAP50: {metrics.box.map50:.4f}\")\n",
        "print(f\"Precision: {metrics.box.p[0]:.4f}\")\n",
        "print(f\"Recall: {metrics.box.r[0]:.4f}\")"
      ],
      "metadata": {
        "id": "5NvOrzr7HFnP"
      },
      "execution_count": null,
      "outputs": []
    },
    {
      "cell_type": "code",
      "source": [
        "# --- RUN INFERENCE ---\n",
        "# Get a list of a few test images\n",
        "test_image_files = glob.glob(os.path.join(dataset_path, 'test/images', '*.jpg'))[:3]\n",
        "\n",
        "# Run prediction on the test images\n",
        "results = model.predict(test_image_files, save=True)\n",
        "\n",
        "# Display the result images with bounding boxes\n",
        "print(\"\\n--- Inference Results ---\")\n",
        "for r in results:\n",
        "    im_array = r.plot()  # plot a BGR numpy array of predictions\n",
        "    im = PILImage.fromarray(im_array[..., ::-1])  # Convert BGR to RGB\n",
        "    display(im)"
      ],
      "metadata": {
        "id": "ch9ovIueHHo-"
      },
      "execution_count": null,
      "outputs": []
    }
  ]
}