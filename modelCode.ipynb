{
  "cells": [
    {
      "cell_type": "code",
      "execution_count": null,
      "metadata": {
        "id": "LPOT8moQGuXN"
      },
      "outputs": [],
      "source": [
        "from google.colab import drive\n",
        "import os\n",
        "import torch\n",
        "from ultralytics import YOLO\n",
        "from roboflow import Roboflow\n",
        "from IPython.display import Image, display\n",
        "from PIL import Image as PILImage\n",
        "import matplotlib.pyplot as plt\n",
        "import glob"
      ]
    },
    {
      "cell_type": "code",
      "execution_count": null,
      "metadata": {
        "id": "goVovdi8GxNU"
      },
      "outputs": [],
      "source": [
        "drive.mount('/content/drive')\n",
        "\n",
        "project_folder = '/content/drive/MyDrive/YOLO_Pothole_Results'\n",
        "os.makedirs(project_folder, exist_ok=True)"
      ]
    },
    {
      "cell_type": "code",
      "execution_count": null,
      "metadata": {
        "id": "3e_3hxheGzug"
      },
      "outputs": [],
      "source": [
        "!pip install ultralytics roboflow -q"
      ]
    },
    {
      "cell_type": "code",
      "execution_count": null,
      "metadata": {
        "id": "pyQR6nbGG5Ye"
      },
      "outputs": [],
      "source": [
        "rf = Roboflow(api_key=\"YOUR_ROBOFLOW_API_KEY\")\n",
        "\n",
        "project = rf.workspace(\"aegis\").project(\"pothole-detection-i00zy\")\n",
        "dataset = project.version(10).download(\"yolov8\")\n",
        "\n",
        "dataset_path = dataset.location"
      ]
    },
    {
      "cell_type": "code",
      "execution_count": null,
      "metadata": {
        "id": "NUPJfe9BHA6i"
      },
      "outputs": [],
      "source": [
        "model_checkpoint_path = '/content/drive/MyDrive/YOLO_Pothole_Results/pothole_detector_yolov8m_final/weights/last.pt'\n",
        "\n",
        "if os.path.exists(model_checkpoint_path):\n",
        "    print(\"Resuming training from last checkpoint...\")\n",
        "    model = YOLO(model_checkpoint_path)\n",
        "else:\n",
        "    print(\"Starting new training from pretrained yolov8m.pt...\")\n",
        "    model = YOLO('yolov8m.pt')\n",
        "\n",
        "\n",
        "results = model.train(\n",
        "    data=os.path.join(dataset_path, 'data.yaml'),\n",
        "    epochs=200,\n",
        "    imgsz=640,\n",
        "    project=project_folder,       \n",
        "    name='pothole_detector_yolov8m_final',\n",
        "    exist_ok=True,              \n",
        "    lr0=0.01,\n",
        "    lrf=0.01,\n",
        "    momentum=0.937,\n",
        "    weight_decay=0.0005,\n",
        "    warmup_epochs=3.0,\n",
        "    warmup_momentum=0.8,\n",
        "    box=7.5,\n",
        "    cls=0.5,\n",
        "    dfl=1.5,\n",
        "    hsv_h=0.015,\n",
        "    hsv_s=0.7,\n",
        "    hsv_v=0.4,\n",
        "    degrees=0.0,\n",
        "    translate=0.1,\n",
        "    scale=0.5,\n",
        "    shear=0.0,\n",
        "    perspective=0.0,\n",
        "    flipud=0.0,\n",
        "    fliplr=0.5,\n",
        "    bgr=0.0,\n",
        "    mosaic=1.0,\n",
        "    mixup=0.0,\n",
        "    cutmix=0.0,\n",
        "    copy_paste=0.0,\n",
        "    device=0                    \n",
        ")"
      ]
    },
    {
      "cell_type": "code",
      "execution_count": null,
      "metadata": {
        "id": "_3mPZS18HDjN"
      },
      "outputs": [],
      "source": [
        "\n",
        "results_path = os.path.join(project_folder, 'pothole_detector_yolov8m_final')\n",
        "\n",
        "\n",
        "print(\"Confusion Matrix:\")\n",
        "display(Image(filename=os.path.join(results_path, 'confusion_matrix.png'), width=800))\n",
        "\n",
        "\n",
        "print(\"\\nTraining/Validation Results:\")\n",
        "display(Image(filename=os.path.join(results_path, 'results.png'), width=1000))\n",
        "\n",
        "\n",
        "print(\"\\nPrecision-Recall Curve:\")\n",
        "display(Image(filename=os.path.join(results_path, 'PR_curve.png'), width=800))"
      ]
    },
    {
      "cell_type": "code",
      "execution_count": null,
      "metadata": {
        "id": "5NvOrzr7HFnP"
      },
      "outputs": [],
      "source": [
        "best_model_path = os.path.join(results_path, 'weights/best.pt')\n",
        "model = YOLO(best_model_path)\n",
        "\n",
        "metrics = model.val()\n",
        "print(\"\\n--- Final Model Metrics ---\")\n",
        "print(f\"mAP50-95: {metrics.box.map:.4f}\")\n",
        "print(f\"mAP50: {metrics.box.map50:.4f}\")\n",
        "print(f\"Precision: {metrics.box.p[0]:.4f}\")\n",
        "print(f\"Recall: {metrics.box.r[0]:.4f}\")"
      ]
    }
  ],
  "metadata": {
    "colab": {
      "provenance": []
    },
    "kernelspec": {
      "display_name": "Python 3",
      "name": "python3"
    },
    "language_info": {
      "name": "python"
    }
  },
  "nbformat": 4,
  "nbformat_minor": 0
}
